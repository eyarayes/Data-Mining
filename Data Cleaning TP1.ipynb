{
 "cells": [
  {
   "cell_type": "markdown",
   "id": "02cc4558",
   "metadata": {},
   "source": [
    "# <img src=\"Datasets\\HEADER.png\">\n",
    "\n",
    "\n",
    "\n",
    "\n",
    "<font color='red'>***Importer les bibliothèques*** *****numpy***** et *****pandas***** ***et importer functools de reduce***</font>"
   ]
  },
  {
   "cell_type": "code",
   "execution_count": null,
   "id": "8c061ad3",
   "metadata": {},
   "outputs": [],
   "source": [
    "# Importer les bibliothèques nécessaires\n",
    "import pandas as pd\n",
    "import numpy as np \n",
    "from functools import reduce "
   ]
  },
  {
   "cell_type": "markdown",
   "id": "264f0b14",
   "metadata": {},
   "source": [
    "# PARTIE I"
   ]
  },
  {
   "cell_type": "markdown",
   "id": "a064a011",
   "metadata": {},
   "source": [
    "Explorer la dataset `BL-Flickr-Images-Book.csv` \n",
    "\n",
    "<font color='red'>**NB:** faites attentions au chemin</font>"
   ]
  },
  {
   "cell_type": "markdown",
   "id": "54a2d2bc",
   "metadata": {},
   "source": [
    "## 1 Exploration du dataset"
   ]
  },
  {
   "cell_type": "code",
   "execution_count": null,
   "id": "ed2172fc",
   "metadata": {},
   "outputs": [],
   "source": [
    "# Exporter BL-Flickr-Images-Book.csv dans un data frame nomé df\n",
    "df = pd.read_csv('Datasets/BL-Flickr-Images-Book.csv')\n",
    "# afficher les 5 premières lignes\n",
    "df.head()"
   ]
  },
  {
   "cell_type": "markdown",
   "id": "036346a3",
   "metadata": {},
   "source": [
    "##  2. Jeter un coup d'oeil dans le dataset"
   ]
  },
  {
   "cell_type": "code",
   "execution_count": null,
   "id": "fe454d42",
   "metadata": {},
   "outputs": [],
   "source": [
    "df.info()"
   ]
  },
  {
   "cell_type": "markdown",
   "id": "b213fc46",
   "metadata": {},
   "source": [
    "##  3. Qu'est ce que vous remarquez?"
   ]
  },
  {
   "cell_type": "markdown",
   "id": "62479d0b",
   "metadata": {},
   "source": [
    ">On remarque que les deux coloumns **Non-Null** et **Count** sont inversé. De plus, les rows n'ont pas le meme types **(object et float)**"
   ]
  },
  {
   "cell_type": "markdown",
   "id": "fe6667b7",
   "metadata": {},
   "source": [
    "## 4. Dropping unnecessary columns"
   ]
  },
  {
   "cell_type": "markdown",
   "id": "614b5b50",
   "metadata": {},
   "source": [
    "Nous allons restreindre l'étude à seulement 7 colonnes pour cela nous allons supprimer 7 colonnes que nous jugeons unitiles por le moment :\n",
    "```Python\n",
    "to_drop = ['Edition Statement',\n",
    "           'Corporate Author',\n",
    "           'Corporate Contributors',\n",
    "           'Former owner',\n",
    "           'Engraver',\n",
    "           'Contributors',\n",
    "           'Issuance type',\n",
    "           'Shelfmarks']``"
   ]
  },
  {
   "cell_type": "code",
   "execution_count": null,
   "id": "5202ca57",
   "metadata": {},
   "outputs": [],
   "source": [
    "to_drop = ['Edition Statement',\n",
    "           'Corporate Author',\n",
    "           'Corporate Contributors',\n",
    "           'Former owner',\n",
    "           'Engraver',\n",
    "           'Contributors',\n",
    "           'Issuance type',\n",
    "           'Shelfmarks']\n",
    "\n",
    "df.drop(to_drop, inplace = True, axis = 1)\n",
    "df.head()"
   ]
  },
  {
   "cell_type": "code",
   "execution_count": 1,
   "id": "c6380c4c",
   "metadata": {},
   "outputs": [
    {
     "ename": "NameError",
     "evalue": "name 'df' is not defined",
     "output_type": "error",
     "traceback": [
      "\u001b[1;31m---------------------------------------------------------------------------\u001b[0m",
      "\u001b[1;31mNameError\u001b[0m                                 Traceback (most recent call last)",
      "\u001b[1;32m<ipython-input-1-ae462a0f5d34>\u001b[0m in \u001b[0;36m<module>\u001b[1;34m\u001b[0m\n\u001b[0;32m      8\u001b[0m            'Shelfmarks']\n\u001b[0;32m      9\u001b[0m \u001b[1;33m\u001b[0m\u001b[0m\n\u001b[1;32m---> 10\u001b[1;33m \u001b[0mdf\u001b[0m\u001b[1;33m.\u001b[0m\u001b[0mdrop\u001b[0m\u001b[1;33m(\u001b[0m\u001b[0mto_drop\u001b[0m\u001b[1;33m,\u001b[0m \u001b[0minplace\u001b[0m \u001b[1;33m=\u001b[0m \u001b[1;32mTrue\u001b[0m\u001b[1;33m,\u001b[0m \u001b[0maxis\u001b[0m \u001b[1;33m=\u001b[0m \u001b[1;36m1\u001b[0m\u001b[1;33m)\u001b[0m\u001b[1;33m\u001b[0m\u001b[1;33m\u001b[0m\u001b[0m\n\u001b[0m\u001b[0;32m     11\u001b[0m \u001b[0mdf\u001b[0m\u001b[1;33m.\u001b[0m\u001b[0mhead\u001b[0m\u001b[1;33m(\u001b[0m\u001b[1;33m)\u001b[0m\u001b[1;33m\u001b[0m\u001b[1;33m\u001b[0m\u001b[0m\n",
      "\u001b[1;31mNameError\u001b[0m: name 'df' is not defined"
     ]
    }
   ],
   "source": [
    "to_drop = ['Edition Statement',\n",
    "           'Corporate Author',\n",
    "           'Corporate Contributors',\n",
    "           'Former owner',\n",
    "           'Engraver',\n",
    "           'Contributors',\n",
    "           'Issuance type',\n",
    "           'Shelfmarks']\n",
    "\n",
    "df.drop(to_drop, inplace = True, axis = 1)\n",
    "df.head()\n"
   ]
  },
  {
   "cell_type": "markdown",
   "id": "a44a665b",
   "metadata": {},
   "source": [
    "## 5. Setting the index of the dataset"
   ]
  },
  {
   "cell_type": "markdown",
   "id": "189fb312",
   "metadata": {},
   "source": [
    "Changer l'index pourqu'ille prenne la valeur de l'identifiant Identifier"
   ]
  },
  {
   "cell_type": "code",
   "execution_count": null,
   "id": "5aee8fb2",
   "metadata": {
    "scrolled": true
   },
   "outputs": [],
   "source": [
    "###Changerl'index \n",
    "df.set_index('Identifier', inplace=True)\n",
    "\n",
    "###Afficher le résultat\n",
    "df.head()"
   ]
  },
  {
   "cell_type": "markdown",
   "id": "d1ec39e2",
   "metadata": {},
   "source": [
    " ## 6. Donner un appérçu sur la colonne `Date of Publication` \n"
   ]
  },
  {
   "cell_type": "code",
   "execution_count": null,
   "id": "9627c453",
   "metadata": {},
   "outputs": [],
   "source": [
    "### Afficher  les 25 premières valeurs de Date of Publication\n",
    "dop=df['Date of Publication']\n",
    "dop.head()"
   ]
  },
  {
   "cell_type": "markdown",
   "id": "f53dfdb6",
   "metadata": {},
   "source": [
    "> Remarque : Observer la date de publication qui correspond à l'index 206.\n",
    "> Ca nécessite un nettoyage et une correction : il faut éliminer certains symboles "
   ]
  },
  {
   "cell_type": "markdown",
   "id": "faf752f9",
   "metadata": {},
   "source": [
    " ## 7. Cleaning columns using the `.apply` function"
   ]
  },
  {
   "cell_type": "markdown",
   "id": "a4649c3f",
   "metadata": {},
   "source": [
    "Ecrire une fonction qui permet de nettoyer la colonne des dates"
   ]
  },
  {
   "cell_type": "code",
   "execution_count": null,
   "id": "cb1deab4",
   "metadata": {},
   "outputs": [],
   "source": [
    "unwanted_characters = ['[', ',', '-']\n",
    "# Completer la fonction suivante\n",
    "def clean_dates(item):\n",
    "    dop= str(item.loc['Date of Publication'])\n",
    "    \n",
    "    if dop == 'nan' or dop[0] == '[':\n",
    "        pass\n",
    "    \n",
    "    for character in unwanted_characters:\n",
    "        if character in dop:\n",
    "            pass\n",
    "            pass\n",
    "    \n",
    "    return dop\n",
    "\n",
    "df['Date of Publication'] = df.apply(clean_dates, axis = 1)"
   ]
  },
  {
   "cell_type": "code",
   "execution_count": null,
   "id": "ecfe0c94",
   "metadata": {},
   "outputs": [],
   "source": [
    "df.head()"
   ]
  },
  {
   "cell_type": "code",
   "execution_count": null,
   "id": "8735118e",
   "metadata": {},
   "outputs": [],
   "source": [
    "#Voici une autre méthode\n",
    "#exécuter pour voir le résultat\n",
    "unwanted_characters = ['[', ',', '-']\n",
    "\n",
    "def clean_dates(dop):\n",
    "    dop = str(dop)\n",
    "    if dop.startswith('[') or dop == 'nan':\n",
    "        return 'NaN'\n",
    "    for character in unwanted_characters:\n",
    "        if character in dop:\n",
    "            character_index = dop.find(character)\n",
    "            dop = dop[:character_index]\n",
    "    return dop\n",
    "\n",
    "df['Date of Publication'] = df['Date of Publication'].apply(clean_dates)\n",
    "df.head(10)"
   ]
  },
  {
   "cell_type": "markdown",
   "id": "4551055e",
   "metadata": {},
   "source": [
    "## 8. Observer la colonne `Author`\n",
    "\n",
    "## Completer la fonction `clean_author_names`qui permet de corriger les valeurs de cet colonne"
   ]
  },
  {
   "cell_type": "code",
   "execution_count": null,
   "id": "ee3f9253",
   "metadata": {
    "scrolled": true
   },
   "outputs": [],
   "source": [
    "def clean_author_names(author):\n",
    "    \n",
    "    author = str(author)\n",
    "    \n",
    "    if author == 'nan':\n",
    "        return 'NaN'\n",
    "    \n",
    "    author = author.split(',')\n",
    "\n",
    "    if len(author) == 1:\n",
    "        name = filter(lambda x: x.isalpha(), author[0])\n",
    "        return reduce(lambda x, y: x + y, name)\n",
    "    \n",
    "    last_name, first_name = author[0], author[1]\n",
    "\n",
    "    first_name = first_name[:first_name.find('-')] if '-' in first_name else first_name\n",
    "    \n",
    "    if first_name.endswith(('.', '.|')):\n",
    "        parts = first_name.split('.')\n",
    "        \n",
    "        if len(parts) > 1:\n",
    "            first_occurence = first_name.find('.')\n",
    "            final_occurence = first_name.find('.', first_occurence + 1)\n",
    "            first_name = first_name[:final_occurence]\n",
    "        else:\n",
    "            first_name = first_name[:first_name.find('.')]\n",
    "    \n",
    "    last_name = last_name.capitalize()\n",
    "    \n",
    "    return f'{first_name} {last_name}'\n",
    "\n",
    "\n",
    "df['Author'] = df['Author'].apply(clean_author_names)"
   ]
  },
  {
   "cell_type": "code",
   "execution_count": null,
   "id": "9845e089",
   "metadata": {},
   "outputs": [],
   "source": [
    "df.head()"
   ]
  },
  {
   "cell_type": "markdown",
   "id": "6381814e",
   "metadata": {},
   "source": [
    "##  Observer la colonne `title`\n",
    "## 9. Completer la fonction `clean_title`qui permet de corriger les valeurs de cet colonne"
   ]
  },
  {
   "cell_type": "code",
   "execution_count": null,
   "id": "16b134cf",
   "metadata": {},
   "outputs": [],
   "source": [
    "# complétrer la fonction suivante ( à la place de pass)\n",
    "\n",
    "def clean_title(title):\n",
    "    \n",
    "    if title == 'nan':\n",
    "        return 'NaN'\n",
    "    \n",
    "    if title[0] == '[':\n",
    "        title=title.replace('[','')\n",
    "        \n",
    "    if 'by' in title:\n",
    "        parts=title.split('by')\n",
    "        title=parts[0]\n",
    "    elif 'By' in title:\n",
    "        parts=title.split('By')\n",
    "        title=parts[0]\n",
    "        \n",
    "        \n",
    "    if '[' in title:\n",
    "        parts=title.split('[')\n",
    "        title=parts[0]\n",
    "\n",
    "    title = title[:-2]\n",
    "        \n",
    "    title = list(map(str.capitalize, title.split()))\n",
    "    return ' '.join(title)\n",
    "    \n",
    "df['Title'] = df['Title'].apply(clean_title)"
   ]
  },
  {
   "cell_type": "markdown",
   "id": "45b10461",
   "metadata": {},
   "source": [
    "# PARTIE II"
   ]
  },
  {
   "cell_type": "markdown",
   "id": "96332895",
   "metadata": {},
   "source": [
    "## 1 Cleaning entire dataset\n",
    "## On considère le fichier suivant 'university_towns.txt'"
   ]
  },
  {
   "cell_type": "code",
   "execution_count": null,
   "id": "c9a77662",
   "metadata": {},
   "outputs": [],
   "source": [
    "!head Datasets/university_towns.txt"
   ]
  },
  {
   "attachments": {
    "1.PNG": {
     "image/png": "[encoded data removed]"
    }
   },
   "cell_type": "markdown",
   "id": "2f747b5a",
   "metadata": {},
   "source": [
    "![1.PNG](attachment:1.PNG)"
   ]
  },
  {
   "cell_type": "code",
   "execution_count": null,
   "id": "2260ed62",
   "metadata": {},
   "outputs": [],
   "source": [
    "with open('Datasets/university_towns.txt', 'r') as text:\n",
    "    textfile = text.read()\n",
    "    print(textfile)"
   ]
  },
  {
   "cell_type": "markdown",
   "id": "900731c6",
   "metadata": {},
   "source": [
    "##  2. Créer un pandas data frame à partir d'un fichier txt"
   ]
  },
  {
   "cell_type": "markdown",
   "id": "74931825",
   "metadata": {},
   "source": [
    ">On veut créer un DataFrame nommé `towns_df` à partir du fichier 'university_towns.txt'\n",
    "\n",
    ">Nous voyons que nous avons des noms d'états périodiques suivis des villes universitaires de cet état: StateA TownA1 TownA2 StateB TownB1 TownB2 .... Si nous regardons la façon dont les noms d'états sont écrits dans le fichier, nous verrons qu'ils ont tous la sous-chaîne «[edit]» en eux.\n",
    "\n",
    ">Nous pouvons tirer parti de ce modèle en créant une liste de tuples (état, ville) et en enveloppant cette liste dans un DataFrame:"
   ]
  },
  {
   "cell_type": "code",
   "execution_count": null,
   "id": "5dc487e6",
   "metadata": {},
   "outputs": [],
   "source": [
    "university_towns = []\n",
    "\n",
    "with open('Datasets/university_towns.txt', 'r') as file:\n",
    "    items = file.readlines()\n",
    "    states = list(filter(lambda x: '[edit]' in x, items))\n",
    "    \n",
    "    for index, state in enumerate(states):\n",
    "        start = items.index(state) + 1\n",
    "        if index == 49: #since 50 states\n",
    "            end = len(items)\n",
    "        else:\n",
    "            end = items.index(states[index + 1])\n",
    "            \n",
    "        pairs = map(lambda x: [state, x], items[start:end])\n",
    "        university_towns.extend(pairs)\n",
    "        \n",
    "towns_df = pd.DataFrame(university_towns, columns = ['State', 'RegionName'])\n",
    "towns_df.head()"
   ]
  },
  {
   "attachments": {
    "1.PNG": {
     "image/png": "[encoded data removed]"
    }
   },
   "cell_type": "markdown",
   "id": "83e2cf4d",
   "metadata": {},
   "source": [
    "![1.PNG](attachment:1.PNG)"
   ]
  },
  {
   "cell_type": "code",
   "execution_count": null,
   "id": "d12d7565",
   "metadata": {},
   "outputs": [],
   "source": [
    "towns_df = pd.DataFrame(university_towns,\n",
    "                        columns=['State', 'RegionName'])\n",
    "towns_df.head()"
   ]
  },
  {
   "attachments": {
    "1.PNG": {
     "image/png": "[encoded data removed]"
    }
   },
   "cell_type": "markdown",
   "id": "5eab5961",
   "metadata": {},
   "source": [
    "![1.PNG](attachment:1.PNG)"
   ]
  },
  {
   "cell_type": "markdown",
   "id": "142ee6be",
   "metadata": {},
   "source": [
    "## 3. Compléter la fonction `clean_up` pour nettoyer les colonnes de `towns_df`"
   ]
  },
  {
   "cell_type": "code",
   "execution_count": null,
   "id": "53add0a9",
   "metadata": {},
   "outputs": [],
   "source": [
    "def clean_up(item):\n",
    "    if '(' in item:\n",
    "        return item[:item.find('(') - 1]\n",
    "    \n",
    "    if '[' in item:\n",
    "        return item[:item.find('[')]\n",
    "    \n",
    "\n",
    "towns_df =  towns_df.applymap(clean_up)\n",
    "towns_df.head()"
   ]
  },
  {
   "attachments": {
    "1.PNG": {
     "image/png": "[encoded data removed]"
    }
   },
   "cell_type": "markdown",
   "id": "8f1b6ac5",
   "metadata": {},
   "source": [
    "![1.PNG](attachment:1.PNG)"
   ]
  },
  {
   "cell_type": "markdown",
   "id": "99125bb9",
   "metadata": {},
   "source": [
    "# PART III"
   ]
  },
  {
   "cell_type": "markdown",
   "id": "a69c3c99",
   "metadata": {},
   "source": [
    "## 1. Renaming columns and skipping rows\n",
    "### 1.1 Convertir le fichier `olympics.csv` en dataframe pandas `olympics_df`"
   ]
  },
  {
   "cell_type": "code",
   "execution_count": null,
   "id": "37b7ebda",
   "metadata": {},
   "outputs": [],
   "source": [
    "# exporter 'olympics.csv' sous forme de data frame nommé olympics_df\n",
    "olympics_df = pd.read_csv('Datasets/olympics.csv')\n",
    "\n",
    "# Afficher les 5 premières lignes\n",
    "olympics_df.head()"
   ]
  },
  {
   "attachments": {
    "1.PNG": {
     "image/png": "[encoded data removed]"
    }
   },
   "cell_type": "markdown",
   "id": "e72b6508",
   "metadata": {},
   "source": [
    "![1.PNG](attachment:1.PNG)"
   ]
  },
  {
   "cell_type": "markdown",
   "id": "bfbe058d",
   "metadata": {},
   "source": [
    "## 1.2 Supprimer la première ligne"
   ]
  },
  {
   "cell_type": "code",
   "execution_count": null,
   "id": "a28d28c3",
   "metadata": {},
   "outputs": [],
   "source": [
    "# exporter 'olympics.csv' sous forme de data frame nommé olympics_df en supprimant la première ligne\n",
    "\n",
    "olympics_df = pd.read_csv('./Datasets/olympics.csv', skiprows = 1, header = 0)\n",
    "\n",
    "# Afficher les 5 premières lignes\n",
    "olympics_df.head()"
   ]
  },
  {
   "attachments": {
    "1.PNG": {
     "image/png": "[encoded data removed]"
    }
   },
   "cell_type": "markdown",
   "id": "48f0658e",
   "metadata": {},
   "source": [
    "![1.PNG](attachment:1.PNG)"
   ]
  },
  {
   "cell_type": "markdown",
   "id": "bee3b90d",
   "metadata": {},
   "source": [
    "# 1.3 Changer le nom des colonnes en utilisant le dictionnaire suivant :"
   ]
  },
  {
   "cell_type": "markdown",
   "id": "d30c118c",
   "metadata": {},
   "source": [
    "```python\n",
    "new_names =  {'Unnamed: 0': 'Country',\n",
    "              '? Summer': 'Summer Olympics',\n",
    "              '01 !': 'Gold',\n",
    "              '02 !': 'Silver',\n",
    "              '03 !': 'Bronze',\n",
    "              '? Winter': 'Winter Olympics',\n",
    "              '01 !.1': 'Gold.1',\n",
    "              '02 !.1': 'Silver.1',\n",
    "              '03 !.1': 'Bronze.1',\n",
    "              '? Games': '# Games', \n",
    "              '01 !.2': 'Gold.2',\n",
    "              '02 !.2': 'Silver.2',\n",
    "              '03 !.2': 'Bronze.2'}\n",
    "\n",
    "\n",
    "```"
   ]
  },
  {
   "cell_type": "code",
   "execution_count": null,
   "id": "8a28de35",
   "metadata": {},
   "outputs": [],
   "source": [
    "# Changer le nom des colonnes en utilisant le dictionnaire new_names\n",
    "new_names =  {'Unnamed: 0': 'Country',\n",
    "              '? Summer': 'Summer Olympics',\n",
    "              '01 !': 'Gold',\n",
    "              '02 !': 'Silver',\n",
    "              '03 !': 'Bronze',\n",
    "              '? Winter': 'Winter Olympics',\n",
    "              '01 !.1': 'Gold.1',\n",
    "              '02 !.1': 'Silver.1',\n",
    "              '03 !.1': 'Bronze.1',\n",
    "              '? Games': '# Games', \n",
    "              '01 !.2': 'Gold.2',\n",
    "              '02 !.2': 'Silver.2',\n",
    "              '03 !.2': 'Bronze.2'}\n",
    "\n",
    "olympics_df.rename(columns = new_names, inplace = True)\n",
    "\n",
    "# Afficher les 5 premières lignes\n",
    "olympics_df.head()"
   ]
  },
  {
   "attachments": {
    "1.PNG": {
     "image/png": "[encoded data removed]"
    }
   },
   "cell_type": "markdown",
   "id": "1679bde9",
   "metadata": {},
   "source": [
    "![1.PNG](attachment:1.PNG)"
   ]
  },
  {
   "cell_type": "code",
   "execution_count": null,
   "id": "fe68fc35",
   "metadata": {},
   "outputs": [],
   "source": []
  }
 ],
 "metadata": {
  "kernelspec": {
   "display_name": "Python 3",
   "language": "python",
   "name": "python3"
  },
  "language_info": {
   "codemirror_mode": {
    "name": "ipython",
    "version": 3
   },
   "file_extension": ".py",
   "mimetype": "text/x-python",
   "name": "python",
   "nbconvert_exporter": "python",
   "pygments_lexer": "ipython3",
   "version": "3.7.13"
  }
 },
 "nbformat": 4,
 "nbformat_minor": 5
}
